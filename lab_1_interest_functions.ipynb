{
  "nbformat": 4,
  "nbformat_minor": 0,
  "metadata": {
    "kernelspec": {
      "display_name": "Python 3",
      "language": "python",
      "name": "python3"
    },
    "language_info": {
      "codemirror_mode": {
        "name": "ipython",
        "version": 3
      },
      "file_extension": ".py",
      "mimetype": "text/x-python",
      "name": "python",
      "nbconvert_exporter": "python",
      "pygments_lexer": "ipython3",
      "version": "3.7.2"
    },
    "colab": {
      "name": "lab_1_interest_functions.ipynb",
      "provenance": [],
      "include_colab_link": true
    }
  },
  "cells": [
    {
      "cell_type": "markdown",
      "metadata": {
        "id": "view-in-github",
        "colab_type": "text"
      },
      "source": [
        "<a href=\"https://colab.research.google.com/github/TWiedRW/lab1_interest_functions/blob/master/lab_1_interest_functions.ipynb\" target=\"_parent\"><img src=\"https://colab.research.google.com/assets/colab-badge.svg\" alt=\"Open In Colab\"/></a>"
      ]
    },
    {
      "cell_type": "markdown",
      "metadata": {
        "id": "kLjr2eQruO63",
        "colab_type": "text"
      },
      "source": [
        "## Lab 1 - Compound Interest Functions\n",
        "\n",
        "Below you will find a table of important formulae related to compound interest.  \n",
        "\n",
        "<img src=\"https://www.dummies.com/wp-content/uploads/251689.image0.jpg\" alt=\"image0.jpg\" width=\"400\" height=\"319\">\n",
        "\n",
        "In this lab, you will create functions for each of these using (and documenting) the following workflow.\n",
        "\n",
        "1. Work out the correct answer for a few examples. *Hint* Search for e.g. \"worked out compound interest examples\" on the web.\n",
        "2. Write a `lambda` function and test this function on your test cases.\n",
        "3. Convert the `lambda` function to a `def` statement with an informative doc string that follows the [Google formating rules](https://google.github.io/styleguide/pyguide.html#383-functions-and-methods).\n",
        "4. Write an automated test function (using your previous examples) that will test your `def` statement function each time the code is executed."
      ]
    },
    {
      "cell_type": "markdown",
      "metadata": {
        "id": "lsI8lUDCuO64",
        "colab_type": "text"
      },
      "source": [
        "#### Problem 1 -- Apply the process to create a simple interest functions."
      ]
    },
    {
      "cell_type": "markdown",
      "metadata": {
        "id": "dP6Umw0zuYnq",
        "colab_type": "text"
      },
      "source": [
        "Part 1: Examples of simple interest\n",
        "\n",
        "* I = 4000 * 0.045 * 3 = 540\n",
        "* I = 0 * 0.06 * 4 = 0\n",
        "* I = 3000 * 0.12 * 2 = 720"
      ]
    },
    {
      "cell_type": "code",
      "metadata": {
        "id": "6Loh61PRvOpP",
        "colab_type": "code",
        "colab": {
          "base_uri": "https://localhost:8080/",
          "height": 68
        },
        "outputId": "0ef3e978-fe76-45a5-e10d-85ed73656b3b"
      },
      "source": [
        "# Part 2\n",
        "\n",
        "si = lambda p, r, t: p*r*t"
      ],
      "execution_count": null,
      "outputs": [
        {
          "output_type": "stream",
          "text": [
            "540.0\n",
            "0.0\n",
            "720.0\n"
          ],
          "name": "stdout"
        }
      ]
    },
    {
      "cell_type": "code",
      "metadata": {
        "id": "ywWnSbVBvwEF",
        "colab_type": "code",
        "colab": {
          "base_uri": "https://localhost:8080/",
          "height": 68
        },
        "outputId": "afdff8bb-1ef6-4699-a085-729f95571c94"
      },
      "source": [
        "# Part 3\n",
        "\n",
        "def si(p, r, t):\n",
        "  \"\"\"Calculates simple interest\n",
        "\n",
        "  Args:\n",
        "    p: principle, the initial amount of money\n",
        "    r: rate, the rate percentage as a decimal\n",
        "    t: time, the amount of time in years\n",
        "\n",
        "  Returns\n",
        "    The returned value is the amount of interest earned \n",
        "    on the principle balance. Note that the value only \n",
        "    represents interest earned, not the total amount\n",
        "    after interest\n",
        "  \"\"\"\n",
        "\n",
        "  output = p*r*t\n",
        "  return(output)"
      ],
      "execution_count": null,
      "outputs": [
        {
          "output_type": "stream",
          "text": [
            "540.0\n",
            "0.0\n",
            "720.0\n"
          ],
          "name": "stdout"
        }
      ]
    },
    {
      "cell_type": "code",
      "metadata": {
        "id": "wkXsQjDJxHlx",
        "colab_type": "code",
        "colab": {}
      },
      "source": [
        "# Part 4\n",
        "\n",
        "def test_si():\n",
        "  assert si(4000, 0.045, 3) == 540\n",
        "  assert si(0, 0.06, 4) == 0\n",
        "  assert si(3000, 0.12, 2)\n",
        "test_si()"
      ],
      "execution_count": null,
      "outputs": []
    },
    {
      "cell_type": "markdown",
      "metadata": {
        "id": "rcvuTr1NuO7F",
        "colab_type": "text"
      },
      "source": [
        "#### Problem 2 -- Apply the process to create a compound interest functions."
      ]
    },
    {
      "cell_type": "markdown",
      "metadata": {
        "id": "U1iVQGeHx2ZD",
        "colab_type": "text"
      },
      "source": [
        "Part 1: Examples of compound interest\n",
        "\n",
        "* A = 1000 * (1 + 0.10 / 1)^(1*15) = 4177.25\n",
        "* A = 0 * (1 + 0.10 / 1)^(1*15) = 0\n",
        "* A = 5000 * (1 + 0.03 / 12)^(12*6) = 5984.74\n",
        "\n"
      ]
    },
    {
      "cell_type": "code",
      "metadata": {
        "id": "aiUgOXh6uO7G",
        "colab_type": "code",
        "colab": {}
      },
      "source": [
        "# Part 2\n",
        "ci = lambda p, r, t, n: round(p*(1 + (r/n))**(n*t), 2)"
      ],
      "execution_count": null,
      "outputs": []
    },
    {
      "cell_type": "code",
      "metadata": {
        "id": "dDJPwovzzlsg",
        "colab_type": "code",
        "colab": {}
      },
      "source": [
        "# Part 3\n",
        "def ci(p, r, t, n):\n",
        "  \"\"\"Returns compound interest\n",
        "\n",
        "  Args:\n",
        "    p: principle, the initial amount of money\n",
        "    r: rate, the rate percentage as a decimal\n",
        "    t: time, the amount of time in years\n",
        "    n: the number of times to be compounded during the year\n",
        "\n",
        "  Returns:\n",
        "    The returned value is the principle amount along with\n",
        "    any accrued interest. This will be rounded to 2 decimal\n",
        "    places\n",
        "\n",
        "  \"\"\"\n",
        "\n",
        "  output = round(p*(1 + (r/n))**(n*t), 2)\n",
        "  return(output)\n"
      ],
      "execution_count": null,
      "outputs": []
    },
    {
      "cell_type": "code",
      "metadata": {
        "id": "3fYyYKP60Kmq",
        "colab_type": "code",
        "colab": {}
      },
      "source": [
        "# Part 4\n",
        "\n",
        "def test_ci():\n",
        "  assert ci(1000, 0.10, 15, 1) == 4177.25\n",
        "  assert ci(0, 0.10, 15, 1) == 0\n",
        "  assert ci(5000, 0.03, 6, 12) == 5984.74\n",
        "test_ci()"
      ],
      "execution_count": null,
      "outputs": []
    },
    {
      "cell_type": "markdown",
      "metadata": {
        "id": "f0TqPu5guO7M",
        "colab_type": "text"
      },
      "source": [
        "#### Problem 3 -- Apply the process to create a amortized loan payment function."
      ]
    },
    {
      "cell_type": "markdown",
      "metadata": {
        "id": "EjDfvvuL1vNy",
        "colab_type": "text"
      },
      "source": [
        "Part 1: Examples of amortized loan payment\n",
        "\n",
        "* R = (1000 * 0.06) / (1 - (1+0.06)^(-5)) = 237.40\n",
        "* R = (0 * 0.06) / (1 - (1+0.06)^(-5)) = 0\n",
        "* R = (3500 * 0.01) / (1 - (1+0.01)^(-20)) = 193.95\n"
      ]
    },
    {
      "cell_type": "code",
      "metadata": {
        "id": "tDPy4hbl26j5",
        "colab_type": "code",
        "colab": {}
      },
      "source": [
        "# Part 2\n",
        "alp = lambda p, r, n: round((p*r) / (1 - (1+r)**(0-n)), 2)"
      ],
      "execution_count": null,
      "outputs": []
    },
    {
      "cell_type": "code",
      "metadata": {
        "id": "bBL8pvTPuO7M",
        "colab_type": "code",
        "colab": {}
      },
      "source": [
        "# Part 3\n",
        "def alp(p, r, n):\n",
        "  \"\"\" Returns the monthly payment amount for an amortized loan payment\n",
        "\n",
        "    Args:\n",
        "      p: principle, the initial amount of money\n",
        "      r: rate, the rate percentage as a decimal\n",
        "      n: the amount of months for payments to be made\n",
        "\n",
        "    Returns:\n",
        "      The monthly payment amount for amortized loan payments\n",
        "  \"\"\"\n",
        "\n",
        "  output = round((p*r) / (1 - (1+r)**(0-n)), 2)\n",
        "  return(output)\n"
      ],
      "execution_count": null,
      "outputs": []
    },
    {
      "cell_type": "code",
      "metadata": {
        "id": "lTCwQlZh5EZL",
        "colab_type": "code",
        "colab": {}
      },
      "source": [
        "# Part 4\n",
        "def test_alp():\n",
        "  assert alp(1000, 0.06, 5) == 237.40\n",
        "  assert alp(0, 0.06, 5) == 0\n",
        "  assert alp(3500, 0.01, 20) == 193.95\n",
        "test_alp()"
      ],
      "execution_count": null,
      "outputs": []
    },
    {
      "cell_type": "markdown",
      "metadata": {
        "id": "dc-2mCiHuO7S",
        "colab_type": "text"
      },
      "source": [
        "#### Problem 4 -- Apply the process to create a remaining balance function"
      ]
    },
    {
      "cell_type": "markdown",
      "metadata": {
        "id": "8HrHCo5Z5g3M",
        "colab_type": "text"
      },
      "source": [
        "Part 1: Examples of remaining balance\n",
        "\n",
        "* B = 100 * [ (1 - (1+0.05) ^ -(30-15) ) / 0.05] = 1037.97\n",
        "\n",
        "* B = 250 * [ (1 - (1+0.125) ^ -(30-30) ) / 0.125] = 0\n",
        "\n",
        "* B = 250 * [ (1 - (1+0.05) ^ -(30-0) ) / 0.05] = 3843.11"
      ]
    },
    {
      "cell_type": "code",
      "metadata": {
        "id": "F_9LMwQz8tJZ",
        "colab_type": "code",
        "colab": {
          "base_uri": "https://localhost:8080/",
          "height": 34
        },
        "outputId": "62ef5e1d-d531-447b-87e9-d485d41cf563"
      },
      "source": [
        "# Part 2\n",
        "\n",
        "rb = lambda R, i, n, x: round(R * ((1 - ((1 + i) ** (0-(n-x)))) / i), 2)\n",
        "rb(100, 0.05, 30, 15)"
      ],
      "execution_count": null,
      "outputs": [
        {
          "output_type": "execute_result",
          "data": {
            "text/plain": [
              "1037.97"
            ]
          },
          "metadata": {
            "tags": []
          },
          "execution_count": 34
        }
      ]
    },
    {
      "cell_type": "code",
      "metadata": {
        "id": "PX3o-AwvuO7T",
        "colab_type": "code",
        "colab": {}
      },
      "source": [
        "# Part 3\n",
        "\n",
        "def rb(R, i, n, x):\n",
        "  \"\"\"Returns the remaining balance of loan payments\n",
        "\n",
        "  Args:\n",
        "    R: Amount payment per month\n",
        "    i: Interest rate\n",
        "    n: The total number of payments\n",
        "    x: The number of payments already made\n",
        "\n",
        "  \"\"\"\n",
        "\n",
        "  output = round(R * ((1 - ((1 + i) ** (0-(n-x)))) / i), 2)\n",
        "  return(output) "
      ],
      "execution_count": null,
      "outputs": []
    },
    {
      "cell_type": "code",
      "metadata": {
        "id": "Rw_57wML9xjN",
        "colab_type": "code",
        "colab": {}
      },
      "source": [
        "# Part 4\n",
        "\n",
        "def test_rb():\n",
        "  assert rb(100, 0.05, 30, 15) == 1037.97\n",
        "  assert rb(250, 0.125, 30, 30) == 0\n",
        "  assert rb(250, 0.05, 30, 0) == 3843.11\n",
        "test_rb()"
      ],
      "execution_count": null,
      "outputs": []
    }
  ]
}